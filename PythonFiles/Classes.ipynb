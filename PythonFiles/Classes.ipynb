{
 "cells": [
  {
   "cell_type": "code",
   "execution_count": 1,
   "metadata": {},
   "outputs": [],
   "source": [
    "class car:\n",
    "    \n",
    "    def __init__(self, speed, color, battery):\n",
    "        self.__speed = speed\n",
    "        self.__color = color\n",
    "        self.__battery = battery\n",
    "        \n",
    "    def set_car_speed(self, speed):\n",
    "        self.__speed = speed\n",
    "    def get_car_speed(self):\n",
    "        return self.__speed\n",
    "    \n",
    "    def set_car_color(self, color):\n",
    "        self.__color = color\n",
    "        \n",
    "    def get_car_color(self):\n",
    "        return self.__color\n",
    "    \n",
    "    def set_car_battery(self, battery):\n",
    "        self.__battery = battery\n",
    "        \n",
    "    def get_car_battery(self):\n",
    "        return self.__battery\n",
    "    \n",
    "        "
   ]
  },
  {
   "cell_type": "code",
   "execution_count": 2,
   "metadata": {},
   "outputs": [],
   "source": [
    "car1 = car(\"180mph\", \"White\", \"2500MAH\")\n",
    "car2 = car(\"220mph\", \"Blue\", \"2800MAH\")"
   ]
  },
  {
   "cell_type": "code",
   "execution_count": 3,
   "metadata": {},
   "outputs": [
    {
     "data": {
      "text/plain": [
       "'White'"
      ]
     },
     "execution_count": 3,
     "metadata": {},
     "output_type": "execute_result"
    }
   ],
   "source": [
    "car1.get_car_color()"
   ]
  },
  {
   "cell_type": "code",
   "execution_count": 4,
   "metadata": {},
   "outputs": [
    {
     "data": {
      "text/plain": [
       "'Blue'"
      ]
     },
     "execution_count": 4,
     "metadata": {},
     "output_type": "execute_result"
    }
   ],
   "source": [
    "car2.get_car_color()"
   ]
  },
  {
   "cell_type": "code",
   "execution_count": 5,
   "metadata": {},
   "outputs": [
    {
     "data": {
      "text/plain": [
       "'2500MAH'"
      ]
     },
     "execution_count": 5,
     "metadata": {},
     "output_type": "execute_result"
    }
   ],
   "source": [
    "car1.get_car_battery()"
   ]
  },
  {
   "cell_type": "code",
   "execution_count": 6,
   "metadata": {},
   "outputs": [
    {
     "data": {
      "text/plain": [
       "'2800MAH'"
      ]
     },
     "execution_count": 6,
     "metadata": {},
     "output_type": "execute_result"
    }
   ],
   "source": [
    "car2.get_car_battery()"
   ]
  },
  {
   "cell_type": "code",
   "execution_count": 7,
   "metadata": {},
   "outputs": [],
   "source": [
    "car2.set_car_color(\"Grey\")"
   ]
  },
  {
   "cell_type": "code",
   "execution_count": 8,
   "metadata": {},
   "outputs": [
    {
     "data": {
      "text/plain": [
       "'Grey'"
      ]
     },
     "execution_count": 8,
     "metadata": {},
     "output_type": "execute_result"
    }
   ],
   "source": [
    "car2.get_car_color()"
   ]
  },
  {
   "cell_type": "code",
   "execution_count": 26,
   "metadata": {},
   "outputs": [],
   "source": [
    "class student:\n",
    "    \n",
    "    def __init__(self, name, age, gender, **marks):\n",
    "        self.__name = name\n",
    "        self.__age = age\n",
    "        self.__gender = gender\n",
    "        self.__marks = marks\n",
    "        \n",
    "    def set_name(self, name):\n",
    "        self.__name = name\n",
    "    def get_name(self):\n",
    "        return self.__name\n",
    "    \n",
    "    def set_age(self, age):\n",
    "        self.__age = age\n",
    "    def get_age(self):\n",
    "        return self.__age\n",
    "    \n",
    "    def set_gender(self, gender):\n",
    "        self.__gender = gender\n",
    "    def get_gender(self):\n",
    "        return self.__gender\n",
    "\n",
    "    def set_marks(self, marks):\n",
    "        self.__marks = marks\n",
    "    def get_marks(self):\n",
    "        return self.__marks\n"
   ]
  },
  {
   "cell_type": "code",
   "execution_count": 27,
   "metadata": {},
   "outputs": [],
   "source": [
    "student1 = student(\"Safdar\", 37, \"Male\", English= 78, Maths= 98)"
   ]
  },
  {
   "cell_type": "code",
   "execution_count": 28,
   "metadata": {},
   "outputs": [
    {
     "name": "stdout",
     "output_type": "stream",
     "text": [
      "KeyEnglish, value 78\n",
      "KeyMaths, value 98\n"
     ]
    }
   ],
   "source": [
    " for keys, values in student1.get_marks().items():\n",
    "        print(f\"Key{keys}, value {values}\")"
   ]
  },
  {
   "cell_type": "code",
   "execution_count": 24,
   "metadata": {},
   "outputs": [],
   "source": [
    "#student1 = student(\"Safdar\", 37, \"Male\", 78, 88)"
   ]
  },
  {
   "cell_type": "code",
   "execution_count": 25,
   "metadata": {},
   "outputs": [
    {
     "data": {
      "text/plain": [
       "(78, 88)"
      ]
     },
     "execution_count": 25,
     "metadata": {},
     "output_type": "execute_result"
    }
   ],
   "source": [
    "#student1.get_marks()"
   ]
  },
  {
   "cell_type": "code",
   "execution_count": 32,
   "metadata": {},
   "outputs": [],
   "source": [
    "class employee:\n",
    "    \n",
    "    def __init__(self, name, salary, sales):\n",
    "        self.__name = name\n",
    "        self.__salary = salary\n",
    "        self.__sales = sales\n",
    "        \n",
    "    def calcGrossSalary(self):\n",
    "        return (self.__salary + self.__calcEmployeeBonus())\n",
    "    \n",
    "    \n",
    "    def __calcEmployeeBonus(self):\n",
    "        if self.__sales > 100:\n",
    "            return self.__sales * 100\n",
    "        elif self.__sales > 50:\n",
    "            return self.__sales * 50\n",
    "        elif self.__sales > 20:\n",
    "            return self.__sales * 20\n",
    "        else:\n",
    "            return 0\n",
    "        \n",
    "        \n",
    "        "
   ]
  },
  {
   "cell_type": "code",
   "execution_count": 37,
   "metadata": {},
   "outputs": [],
   "source": [
    "employ = employee(\"Ubaid\", 50000, 50)"
   ]
  },
  {
   "cell_type": "code",
   "execution_count": 38,
   "metadata": {},
   "outputs": [
    {
     "data": {
      "text/plain": [
       "51000"
      ]
     },
     "execution_count": 38,
     "metadata": {},
     "output_type": "execute_result"
    }
   ],
   "source": [
    "employ.calcGrossSalary()"
   ]
  },
  {
   "cell_type": "code",
   "execution_count": null,
   "metadata": {},
   "outputs": [],
   "source": []
  }
 ],
 "metadata": {
  "kernelspec": {
   "display_name": "Python 3",
   "language": "python",
   "name": "python3"
  },
  "language_info": {
   "codemirror_mode": {
    "name": "ipython",
    "version": 3
   },
   "file_extension": ".py",
   "mimetype": "text/x-python",
   "name": "python",
   "nbconvert_exporter": "python",
   "pygments_lexer": "ipython3",
   "version": "3.8.3"
  }
 },
 "nbformat": 4,
 "nbformat_minor": 4
}
