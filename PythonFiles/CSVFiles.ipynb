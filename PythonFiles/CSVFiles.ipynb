{
 "cells": [
  {
   "cell_type": "code",
   "execution_count": 1,
   "metadata": {},
   "outputs": [],
   "source": [
    "import csv"
   ]
  },
  {
   "cell_type": "markdown",
   "metadata": {},
   "source": [
    "# Reading Data from csv files"
   ]
  },
  {
   "cell_type": "code",
   "execution_count": 7,
   "metadata": {},
   "outputs": [
    {
     "name": "stdout",
     "output_type": "stream",
     "text": [
      "['name', ' age', ' gender']\n",
      "['safdar', ' 37', ' male']\n",
      "['ubaid', ' 36', ' male']\n",
      "['sohail', ' 35', ' male']\n"
     ]
    }
   ],
   "source": [
    "with open (\"myFile.csv\") as file:\n",
    "    contents = csv.reader(file)\n",
    "    for content in contents:\n",
    "        print(content)"
   ]
  },
  {
   "cell_type": "markdown",
   "metadata": {},
   "source": [
    "# Writing Data into csv file"
   ]
  },
  {
   "cell_type": "code",
   "execution_count": 11,
   "metadata": {},
   "outputs": [
    {
     "name": "stdout",
     "output_type": "stream",
     "text": [
      "<_csv.writer object at 0x0000027785E43900>\n"
     ]
    }
   ],
   "source": [
    "with open(\"myUnknownFile.csv\",\"w\", newline=\"\") as file:\n",
    "    filewriter = csv.writer(file)\n",
    "    filewriter.writerow([\"Pakistan\",\"1947\", \"Independence Day\"])\n",
    "    print(filewriter)\n",
    "        "
   ]
  },
  {
   "cell_type": "code",
   "execution_count": 13,
   "metadata": {},
   "outputs": [
    {
     "name": "stdout",
     "output_type": "stream",
     "text": [
      "<_csv.writer object at 0x0000027786576220>\n"
     ]
    }
   ],
   "source": [
    "with open(\"myUnknownFile.csv\",\"a\", newline=\"\") as file:\n",
    "    filewriter = csv.writer(file)\n",
    "    filewriter.writerow([\"Pakistan\",\"14 August 947\", \"Best wishes on Independence Day\"])\n",
    "    print(filewriter)        "
   ]
  },
  {
   "cell_type": "code",
   "execution_count": null,
   "metadata": {},
   "outputs": [],
   "source": []
  }
 ],
 "metadata": {
  "kernelspec": {
   "display_name": "Python 3",
   "language": "python",
   "name": "python3"
  },
  "language_info": {
   "codemirror_mode": {
    "name": "ipython",
    "version": 3
   },
   "file_extension": ".py",
   "mimetype": "text/x-python",
   "name": "python",
   "nbconvert_exporter": "python",
   "pygments_lexer": "ipython3",
   "version": "3.8.3"
  }
 },
 "nbformat": 4,
 "nbformat_minor": 4
}
