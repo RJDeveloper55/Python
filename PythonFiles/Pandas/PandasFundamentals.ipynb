{
 "cells": [
  {
   "cell_type": "markdown",
   "metadata": {},
   "source": [
    "# Pandas Series"
   ]
  },
  {
   "cell_type": "code",
   "execution_count": 1,
   "metadata": {},
   "outputs": [],
   "source": [
    "import pandas as pd"
   ]
  },
  {
   "cell_type": "code",
   "execution_count": 5,
   "metadata": {},
   "outputs": [],
   "source": [
    "sobj = pd.Series([1,4,-3,2, \"a\"])"
   ]
  },
  {
   "cell_type": "code",
   "execution_count": 7,
   "metadata": {},
   "outputs": [
    {
     "name": "stdout",
     "output_type": "stream",
     "text": [
      "0     1\n",
      "1     4\n",
      "2    -3\n",
      "3     2\n",
      "4     a\n",
      "dtype: object\n"
     ]
    }
   ],
   "source": [
    "print(sobj)"
   ]
  },
  {
   "cell_type": "code",
   "execution_count": 8,
   "metadata": {},
   "outputs": [
    {
     "name": "stdout",
     "output_type": "stream",
     "text": [
      "RangeIndex(start=0, stop=5, step=1) [1 4 -3 2 'a']\n"
     ]
    }
   ],
   "source": [
    "print(sobj.index, sobj.values)"
   ]
  },
  {
   "cell_type": "code",
   "execution_count": 9,
   "metadata": {},
   "outputs": [],
   "source": [
    "sales = pd.Series([25000, 25000, 25000, 30000, 30000, 30000])"
   ]
  },
  {
   "cell_type": "code",
   "execution_count": 10,
   "metadata": {},
   "outputs": [
    {
     "data": {
      "text/plain": [
       "30000    3\n",
       "25000    3\n",
       "dtype: int64"
      ]
     },
     "execution_count": 10,
     "metadata": {},
     "output_type": "execute_result"
    }
   ],
   "source": [
    "sales.value_counts()"
   ]
  },
  {
   "cell_type": "code",
   "execution_count": 12,
   "metadata": {},
   "outputs": [
    {
     "data": {
      "text/plain": [
       "array([25000, 25000, 25000, 30000, 30000, 30000], dtype=int64)"
      ]
     },
     "execution_count": 12,
     "metadata": {},
     "output_type": "execute_result"
    }
   ],
   "source": [
    "sales.values"
   ]
  },
  {
   "cell_type": "code",
   "execution_count": 13,
   "metadata": {},
   "outputs": [
    {
     "name": "stdout",
     "output_type": "stream",
     "text": [
      "[25000 25000 25000 30000 30000 30000] RangeIndex(start=0, stop=6, step=1)\n"
     ]
    }
   ],
   "source": [
    "print(sales.values, sales.index)"
   ]
  },
  {
   "cell_type": "code",
   "execution_count": 23,
   "metadata": {},
   "outputs": [],
   "source": [
    "sales = pd.Series([25000, 25000, 25000, 30000, 30000, 30000], ['Jan', 'Feb','Mar','Apr', 'May', 'Jun'], name=\"6 Months Sales\")"
   ]
  },
  {
   "cell_type": "code",
   "execution_count": 25,
   "metadata": {},
   "outputs": [
    {
     "name": "stdout",
     "output_type": "stream",
     "text": [
      "Jan    25000\n",
      "Feb    25000\n",
      "Mar    25000\n",
      "Apr    30000\n",
      "May    30000\n",
      "Jun    30000\n",
      "Name: 6 Months Sales, dtype: int64\n"
     ]
    }
   ],
   "source": [
    "print(sales)"
   ]
  },
  {
   "cell_type": "code",
   "execution_count": 24,
   "metadata": {},
   "outputs": [
    {
     "name": "stdout",
     "output_type": "stream",
     "text": [
      "Index(['Jan', 'Feb', 'Mar', 'Apr', 'May', 'Jun'], dtype='object') [25000 25000 25000 30000 30000 30000]\n"
     ]
    }
   ],
   "source": [
    "print(sales.index, sales.values)"
   ]
  },
  {
   "cell_type": "code",
   "execution_count": 21,
   "metadata": {},
   "outputs": [
    {
     "name": "stdout",
     "output_type": "stream",
     "text": [
      "Jan    25000\n",
      "Feb    25000\n",
      "Mar    25000\n",
      "Apr    30000\n",
      "May    30000\n",
      "Jun    30000\n",
      "dtype: int64\n"
     ]
    }
   ],
   "source": [
    "print(sales)"
   ]
  },
  {
   "cell_type": "code",
   "execution_count": 22,
   "metadata": {},
   "outputs": [
    {
     "name": "stdout",
     "output_type": "stream",
     "text": [
      "[25000 25000 25000 30000 30000 30000]\n"
     ]
    }
   ],
   "source": [
    "print(sales.values)"
   ]
  },
  {
   "cell_type": "code",
   "execution_count": 30,
   "metadata": {},
   "outputs": [],
   "source": [
    "swSales = [10, 15, 20, 25, 65,12, 100]\n",
    "swIndexes = ['Saturday','Sunday','Monday','Tuesday','Wednesday','Thursday','Friday']\n",
    "Name = \"One Week Sandwitch Sales\"\n"
   ]
  },
  {
   "cell_type": "code",
   "execution_count": 34,
   "metadata": {},
   "outputs": [],
   "source": [
    "swSales = pd.Series(data = swSales, index=swIndexes, name=Name)"
   ]
  },
  {
   "cell_type": "code",
   "execution_count": 35,
   "metadata": {},
   "outputs": [
    {
     "name": "stdout",
     "output_type": "stream",
     "text": [
      "Saturday      10\n",
      "Sunday        15\n",
      "Monday        20\n",
      "Tuesday       25\n",
      "Wednesday     65\n",
      "Thursday      12\n",
      "Friday       100\n",
      "Name: One Week Sandwitch Sales, dtype: int64\n"
     ]
    }
   ],
   "source": [
    "print(swSales)"
   ]
  },
  {
   "cell_type": "code",
   "execution_count": 36,
   "metadata": {},
   "outputs": [
    {
     "name": "stdout",
     "output_type": "stream",
     "text": [
      "15\n"
     ]
    }
   ],
   "source": [
    "print(swSales[1])"
   ]
  },
  {
   "cell_type": "code",
   "execution_count": 37,
   "metadata": {},
   "outputs": [
    {
     "name": "stdout",
     "output_type": "stream",
     "text": [
      "15\n"
     ]
    }
   ],
   "source": [
    "print(swSales[\"Sunday\"])"
   ]
  },
  {
   "cell_type": "code",
   "execution_count": 38,
   "metadata": {},
   "outputs": [
    {
     "name": "stdout",
     "output_type": "stream",
     "text": [
      "Sunday      15\n",
      "Tuesday     25\n",
      "Thursday    12\n",
      "Name: One Week Sandwitch Sales, dtype: int64\n"
     ]
    }
   ],
   "source": [
    "print(swSales[[1,3,5]])"
   ]
  },
  {
   "cell_type": "code",
   "execution_count": 39,
   "metadata": {},
   "outputs": [
    {
     "name": "stdout",
     "output_type": "stream",
     "text": [
      "Monday     20\n",
      "Friday    100\n",
      "Sunday     15\n",
      "Name: One Week Sandwitch Sales, dtype: int64\n"
     ]
    }
   ],
   "source": [
    "print(swSales[[\"Monday\",\"Friday\",'Sunday']])"
   ]
  },
  {
   "cell_type": "code",
   "execution_count": 46,
   "metadata": {},
   "outputs": [
    {
     "name": "stdout",
     "output_type": "stream",
     "text": [
      "Saturday      10\n",
      "Sunday        15\n",
      "Monday        20\n",
      "Tuesday       25\n",
      "Wednesday     65\n",
      "Thursday      12\n",
      "Friday       100\n",
      "Name: One Week Sandwitch Sales, dtype: int64\n"
     ]
    }
   ],
   "source": [
    "print(swSales[swSales > 5])"
   ]
  },
  {
   "cell_type": "code",
   "execution_count": 47,
   "metadata": {},
   "outputs": [
    {
     "name": "stdout",
     "output_type": "stream",
     "text": [
      "Saturday      10\n",
      "Sunday        15\n",
      "Monday        20\n",
      "Tuesday       25\n",
      "Wednesday     65\n",
      "Thursday      12\n",
      "Friday       100\n",
      "Name: One Week Sandwitch Sales, dtype: int64\n"
     ]
    }
   ],
   "source": [
    "print(swSales[swSales.values > 5])"
   ]
  },
  {
   "cell_type": "code",
   "execution_count": 48,
   "metadata": {},
   "outputs": [],
   "source": [
    "swSales = swSales*3"
   ]
  },
  {
   "cell_type": "code",
   "execution_count": 49,
   "metadata": {},
   "outputs": [
    {
     "name": "stdout",
     "output_type": "stream",
     "text": [
      "Saturday      30\n",
      "Sunday        45\n",
      "Monday        60\n",
      "Tuesday       75\n",
      "Wednesday    195\n",
      "Thursday      36\n",
      "Friday       300\n",
      "Name: One Week Sandwitch Sales, dtype: int64\n"
     ]
    }
   ],
   "source": [
    "print(swSales)"
   ]
  },
  {
   "cell_type": "code",
   "execution_count": 54,
   "metadata": {},
   "outputs": [],
   "source": [
    "swSales = swSales/3"
   ]
  },
  {
   "cell_type": "code",
   "execution_count": 55,
   "metadata": {},
   "outputs": [
    {
     "name": "stdout",
     "output_type": "stream",
     "text": [
      "Saturday      3.333333\n",
      "Sunday        5.000000\n",
      "Monday        6.666667\n",
      "Tuesday       8.333333\n",
      "Wednesday    21.666667\n",
      "Thursday      4.000000\n",
      "Friday       33.333333\n",
      "Name: One Week Sandwitch Sales, dtype: float64\n"
     ]
    }
   ],
   "source": [
    "print(swSales)"
   ]
  },
  {
   "cell_type": "code",
   "execution_count": 79,
   "metadata": {},
   "outputs": [],
   "source": [
    "import numpy as np\n",
    "swSales = np.array([10, 15, 20, 25, 65,12, 100])\n",
    "swIndexes = ['Saturday','Sunday','Monday','Tuesday','Wednesday','Thursday','Friday']\n",
    "Name = \"One Week Sandwitch Sales\"\n",
    "swSales = pd.Series(data = swSales, index=swIndexes, name=Name)\n",
    "swSales.index = ['S','S','M','T','W','T','F']"
   ]
  },
  {
   "cell_type": "code",
   "execution_count": 80,
   "metadata": {},
   "outputs": [
    {
     "name": "stdout",
     "output_type": "stream",
     "text": [
      "S     10\n",
      "S     15\n",
      "M     20\n",
      "T     25\n",
      "W     65\n",
      "T     12\n",
      "F    100\n",
      "Name: One Week Sandwitch Sales, dtype: int32\n"
     ]
    }
   ],
   "source": [
    "print(swSales)"
   ]
  },
  {
   "cell_type": "code",
   "execution_count": 84,
   "metadata": {},
   "outputs": [
    {
     "name": "stdout",
     "output_type": "stream",
     "text": [
      "States Index Name\n",
      "KPK                25000000.0\n",
      "Punjab             14000000.0\n",
      "Sindh               3500000.0\n",
      "Balochistan        12500000.0\n",
      "Gilgitbulkistan           NaN\n",
      "Name: Population Of States in Pakistan, dtype: float64\n"
     ]
    }
   ],
   "source": [
    "sDicData = {\"Punjab\":14000000, \"Sindh\":3500000, \"KPK\":25000000, \"Balochistan\":12500000}\n",
    "sIndexes = [\"KPK\",'Punjab','Sindh','Balochistan','Gilgitbulkistan']\n",
    "DicName = \"Population Of States in Pakistan\"\n",
    "state_population = pd.Series(data=sDicData, index=sIndexes, name=DicName)\n",
    "state_population.index.name =\"States Index Name\"\n",
    "#state_population.name = 'States Statistics'\n",
    "print(state_population)"
   ]
  },
  {
   "cell_type": "code",
   "execution_count": 66,
   "metadata": {},
   "outputs": [
    {
     "name": "stdout",
     "output_type": "stream",
     "text": [
      "25000000\n"
     ]
    }
   ],
   "source": [
    "print(state_population['KPK'])"
   ]
  },
  {
   "cell_type": "code",
   "execution_count": 67,
   "metadata": {},
   "outputs": [
    {
     "name": "stdout",
     "output_type": "stream",
     "text": [
      "Punjab    14000000\n",
      "Sindh      3500000\n",
      "Name: Population Of States in Pakistan, dtype: int64\n"
     ]
    }
   ],
   "source": [
    "print(state_population[['Punjab','Sindh']])"
   ]
  },
  {
   "cell_type": "code",
   "execution_count": 77,
   "metadata": {},
   "outputs": [
    {
     "name": "stdout",
     "output_type": "stream",
     "text": [
      "KPK                False\n",
      "Punjab             False\n",
      "Sindh              False\n",
      "Balochistan        False\n",
      "Gilgitbulkistan     True\n",
      "Name: Population Of States in Pakistan, dtype: bool\n",
      "KPK                False\n",
      "Punjab             False\n",
      "Sindh              False\n",
      "Balochistan        False\n",
      "Gilgitbulkistan     True\n",
      "Name: Population Of States in Pakistan, dtype: bool\n"
     ]
    }
   ],
   "source": [
    "print(pd.isna(state_population))\n",
    "print(state_population.isnull())"
   ]
  },
  {
   "cell_type": "markdown",
   "metadata": {},
   "source": [
    "**Source of Data in Series**\n",
    "* Direct data into series\n",
    "* Data from Python List and Numpy Array\n",
    "* Python Dictionery"
   ]
  },
  {
   "cell_type": "code",
   "execution_count": 254,
   "metadata": {},
   "outputs": [
    {
     "name": "stdout",
     "output_type": "stream",
     "text": [
      "          one  three\n",
      "Calorado    8     10\n",
      "Ohio        4      6\n"
     ]
    }
   ],
   "source": [
    "data_df = pd.DataFrame(np.arange(16).reshape(4,4), columns = ['one','two','three','four'], \n",
    "                       index=['Texas','Ohio','Calorado','New York'])\n",
    "print(data_df.loc[['Calorado','Ohio'],['one','three']])"
   ]
  },
  {
   "cell_type": "code",
   "execution_count": 263,
   "metadata": {},
   "outputs": [
    {
     "name": "stdout",
     "output_type": "stream",
     "text": [
      "          one  two  three  four\n",
      "Texas       0    1      2     3\n",
      "Ohio        4    5      6     7\n",
      "Calorado    8    9     10    11\n",
      "New York   12   13     14    15\n",
      "       one  two  three\n",
      "Texas    0    1      2\n",
      "Ohio     4    5      6\n"
     ]
    }
   ],
   "source": [
    "print(data_df)\n",
    "#print(data_df.iloc[[2,3],[0,3]])\n",
    "print(data_df.iloc[:2,:3])"
   ]
  },
  {
   "cell_type": "code",
   "execution_count": 275,
   "metadata": {},
   "outputs": [
    {
     "name": "stdout",
     "output_type": "stream",
     "text": [
      "      a     b     c     d   e\n",
      "0   0.0   2.0   4.0   6.0 NaN\n",
      "1   9.0  11.0  13.0  15.0 NaN\n",
      "2  18.0  20.0  22.0  24.0 NaN\n",
      "3   NaN   NaN   NaN   NaN NaN\n",
      "      a     b     c     d     e\n",
      "0   0.0   2.0   4.0   6.0   4.0\n",
      "1   9.0  11.0  13.0  15.0   9.0\n",
      "2  18.0  20.0  22.0  24.0  14.0\n",
      "3  15.0  16.0  17.0  18.0  19.0\n"
     ]
    }
   ],
   "source": [
    "df1 = pd.DataFrame(np.arange(12).reshape(3,4), columns=list('abcd'))\n",
    "df2 = pd.DataFrame(np.arange(20).reshape(4,5), columns=list('abcde'))\n",
    "#print(df1,'\\n\\n', df2)\n",
    "print(df1+df2)\n",
    "df3 = df1.add(df2, fill_value = 0)\n",
    "print(df3)"
   ]
  },
  {
   "cell_type": "code",
   "execution_count": 272,
   "metadata": {},
   "outputs": [
    {
     "data": {
      "text/html": [
       "<div>\n",
       "<style scoped>\n",
       "    .dataframe tbody tr th:only-of-type {\n",
       "        vertical-align: middle;\n",
       "    }\n",
       "\n",
       "    .dataframe tbody tr th {\n",
       "        vertical-align: top;\n",
       "    }\n",
       "\n",
       "    .dataframe thead th {\n",
       "        text-align: right;\n",
       "    }\n",
       "</style>\n",
       "<table border=\"1\" class=\"dataframe\">\n",
       "  <thead>\n",
       "    <tr style=\"text-align: right;\">\n",
       "      <th></th>\n",
       "      <th>a</th>\n",
       "      <th>b</th>\n",
       "      <th>c</th>\n",
       "      <th>d</th>\n",
       "      <th>e</th>\n",
       "    </tr>\n",
       "  </thead>\n",
       "  <tbody>\n",
       "    <tr>\n",
       "      <th>0</th>\n",
       "      <td>0.0</td>\n",
       "      <td>2.0</td>\n",
       "      <td>4.0</td>\n",
       "      <td>6.0</td>\n",
       "      <td>4.0</td>\n",
       "    </tr>\n",
       "    <tr>\n",
       "      <th>1</th>\n",
       "      <td>9.0</td>\n",
       "      <td>11.0</td>\n",
       "      <td>13.0</td>\n",
       "      <td>15.0</td>\n",
       "      <td>9.0</td>\n",
       "    </tr>\n",
       "    <tr>\n",
       "      <th>2</th>\n",
       "      <td>18.0</td>\n",
       "      <td>20.0</td>\n",
       "      <td>22.0</td>\n",
       "      <td>24.0</td>\n",
       "      <td>14.0</td>\n",
       "    </tr>\n",
       "    <tr>\n",
       "      <th>3</th>\n",
       "      <td>15.0</td>\n",
       "      <td>16.0</td>\n",
       "      <td>17.0</td>\n",
       "      <td>18.0</td>\n",
       "      <td>19.0</td>\n",
       "    </tr>\n",
       "  </tbody>\n",
       "</table>\n",
       "</div>"
      ],
      "text/plain": [
       "      a     b     c     d     e\n",
       "0   0.0   2.0   4.0   6.0   4.0\n",
       "1   9.0  11.0  13.0  15.0   9.0\n",
       "2  18.0  20.0  22.0  24.0  14.0\n",
       "3  15.0  16.0  17.0  18.0  19.0"
      ]
     },
     "execution_count": 272,
     "metadata": {},
     "output_type": "execute_result"
    }
   ],
   "source": [
    "#df3.fillna"
   ]
  },
  {
   "cell_type": "code",
   "execution_count": 290,
   "metadata": {},
   "outputs": [
    {
     "name": "stdout",
     "output_type": "stream",
     "text": [
      "Index(['a', 'b', 'c', 'd'], dtype='object') [1 2 3 4]\n",
      "   a  b  c  d\n",
      "0 -1 -1 -1 -1\n",
      "1  3  3  3  3\n",
      "2  7  7  7  7\n"
     ]
    }
   ],
   "source": [
    "df1 = pd.DataFrame(np.arange(12).reshape(3,4), columns=list('abcd'))\n",
    "series = pd.Series(data = [1,2,3,4] ,index=list('abcd'))\n",
    "print(series.index, series.values)\n",
    "print(df1-series)"
   ]
  },
  {
   "cell_type": "code",
   "execution_count": 298,
   "metadata": {},
   "outputs": [
    {
     "data": {
      "text/html": [
       "<div>\n",
       "<style scoped>\n",
       "    .dataframe tbody tr th:only-of-type {\n",
       "        vertical-align: middle;\n",
       "    }\n",
       "\n",
       "    .dataframe tbody tr th {\n",
       "        vertical-align: top;\n",
       "    }\n",
       "\n",
       "    .dataframe thead th {\n",
       "        text-align: right;\n",
       "    }\n",
       "</style>\n",
       "<table border=\"1\" class=\"dataframe\">\n",
       "  <thead>\n",
       "    <tr style=\"text-align: right;\">\n",
       "      <th></th>\n",
       "      <th>b</th>\n",
       "      <th>c</th>\n",
       "      <th>d</th>\n",
       "    </tr>\n",
       "  </thead>\n",
       "  <tbody>\n",
       "    <tr>\n",
       "      <th>1</th>\n",
       "      <td>5</td>\n",
       "      <td>6</td>\n",
       "      <td>7</td>\n",
       "    </tr>\n",
       "    <tr>\n",
       "      <th>2</th>\n",
       "      <td>9</td>\n",
       "      <td>10</td>\n",
       "      <td>11</td>\n",
       "    </tr>\n",
       "  </tbody>\n",
       "</table>\n",
       "</div>"
      ],
      "text/plain": [
       "   b   c   d\n",
       "1  5   6   7\n",
       "2  9  10  11"
      ]
     },
     "execution_count": 298,
     "metadata": {},
     "output_type": "execute_result"
    }
   ],
   "source": [
    "#df1.drop(labels='a', axis=1, inplace=True)\n",
    "data_df1 = df1.drop(index=0, axis=0)\n",
    "data_df1"
   ]
  },
  {
   "cell_type": "markdown",
   "metadata": {},
   "source": [
    "# Reindexing"
   ]
  },
  {
   "cell_type": "code",
   "execution_count": 306,
   "metadata": {},
   "outputs": [
    {
     "data": {
      "text/plain": [
       "2     Yellow\n",
       "3      Green\n",
       "4      Green\n",
       "5       Blue\n",
       "6       Blue\n",
       "7       Blue\n",
       "8       Blue\n",
       "9       Blue\n",
       "10      Blue\n",
       "11      Blue\n",
       "dtype: object"
      ]
     },
     "execution_count": 306,
     "metadata": {},
     "output_type": "execute_result"
    }
   ],
   "source": [
    "obj3 = pd.Series(data = ['Yellow','Green','Blue'], index=[0,3,5])\n",
    "obj3.reindex(range(8), method='ffill')\n",
    "obj3.reindex(range(2,12),method='ffill')"
   ]
  },
  {
   "cell_type": "code",
   "execution_count": 337,
   "metadata": {},
   "outputs": [
    {
     "data": {
      "text/html": [
       "<div>\n",
       "<style scoped>\n",
       "    .dataframe tbody tr th:only-of-type {\n",
       "        vertical-align: middle;\n",
       "    }\n",
       "\n",
       "    .dataframe tbody tr th {\n",
       "        vertical-align: top;\n",
       "    }\n",
       "\n",
       "    .dataframe thead th {\n",
       "        text-align: right;\n",
       "    }\n",
       "</style>\n",
       "<table border=\"1\" class=\"dataframe\">\n",
       "  <thead>\n",
       "    <tr style=\"text-align: right;\">\n",
       "      <th></th>\n",
       "      <th>California</th>\n",
       "      <th>New York</th>\n",
       "      <th>Texas</th>\n",
       "      <th>Utah</th>\n",
       "    </tr>\n",
       "  </thead>\n",
       "  <tbody>\n",
       "    <tr>\n",
       "      <th>a</th>\n",
       "      <td>2</td>\n",
       "      <td>NaN</td>\n",
       "      <td>0</td>\n",
       "      <td>1</td>\n",
       "    </tr>\n",
       "    <tr>\n",
       "      <th>c</th>\n",
       "      <td>5</td>\n",
       "      <td>NaN</td>\n",
       "      <td>3</td>\n",
       "      <td>4</td>\n",
       "    </tr>\n",
       "    <tr>\n",
       "      <th>d</th>\n",
       "      <td>8</td>\n",
       "      <td>NaN</td>\n",
       "      <td>6</td>\n",
       "      <td>7</td>\n",
       "    </tr>\n",
       "  </tbody>\n",
       "</table>\n",
       "</div>"
      ],
      "text/plain": [
       "   California  New York  Texas  Utah\n",
       "a           2       NaN      0     1\n",
       "c           5       NaN      3     4\n",
       "d           8       NaN      6     7"
      ]
     },
     "execution_count": 337,
     "metadata": {},
     "output_type": "execute_result"
    }
   ],
   "source": [
    "df_data2 = pd.DataFrame(data=np.arange(9).reshape(3,3), columns=['Texas','Utah','California'], index=['a','c','d'])\n",
    "#df_states = df_data2.reindex(['a','b','c','d'], method='ffill')\n",
    "#df_states = df_data2.reindex(columns = ['Ohio','California','Texas','New York'], method='ffill')\n",
    "states = ['Texas','Utah','California','New York']\n",
    "df_data2.sort_index(axis=1).reindex(columns=sorted(states))\n"
   ]
  },
  {
   "cell_type": "code",
   "execution_count": 360,
   "metadata": {},
   "outputs": [
    {
     "data": {
      "text/plain": [
       "a    0\n",
       "c    3\n",
       "d    6\n",
       "Name: Texas, dtype: int32"
      ]
     },
     "execution_count": 360,
     "metadata": {},
     "output_type": "execute_result"
    }
   ],
   "source": [
    "df_data2.Texas[df_data2.Utah>=1]"
   ]
  },
  {
   "cell_type": "code",
   "execution_count": 352,
   "metadata": {},
   "outputs": [
    {
     "name": "stdout",
     "output_type": "stream",
     "text": [
      "   Texas  Utah  California\n",
      "c      3     4           5\n",
      "d      6     7           8\n"
     ]
    }
   ],
   "source": [
    "print(df_data2[df_data2.Utah>1])"
   ]
  },
  {
   "cell_type": "code",
   "execution_count": 356,
   "metadata": {},
   "outputs": [
    {
     "data": {
      "text/html": [
       "<div>\n",
       "<style scoped>\n",
       "    .dataframe tbody tr th:only-of-type {\n",
       "        vertical-align: middle;\n",
       "    }\n",
       "\n",
       "    .dataframe tbody tr th {\n",
       "        vertical-align: top;\n",
       "    }\n",
       "\n",
       "    .dataframe thead th {\n",
       "        text-align: right;\n",
       "    }\n",
       "</style>\n",
       "<table border=\"1\" class=\"dataframe\">\n",
       "  <thead>\n",
       "    <tr style=\"text-align: right;\">\n",
       "      <th></th>\n",
       "      <th>Texas</th>\n",
       "      <th>Utah</th>\n",
       "    </tr>\n",
       "  </thead>\n",
       "  <tbody>\n",
       "    <tr>\n",
       "      <th>c</th>\n",
       "      <td>3</td>\n",
       "      <td>4</td>\n",
       "    </tr>\n",
       "    <tr>\n",
       "      <th>d</th>\n",
       "      <td>6</td>\n",
       "      <td>7</td>\n",
       "    </tr>\n",
       "  </tbody>\n",
       "</table>\n",
       "</div>"
      ],
      "text/plain": [
       "   Texas  Utah\n",
       "c      3     4\n",
       "d      6     7"
      ]
     },
     "execution_count": 356,
     "metadata": {},
     "output_type": "execute_result"
    }
   ],
   "source": [
    "df_data2.iloc[1:,:2]"
   ]
  },
  {
   "cell_type": "code",
   "execution_count": 364,
   "metadata": {},
   "outputs": [
    {
     "data": {
      "text/html": [
       "<div>\n",
       "<style scoped>\n",
       "    .dataframe tbody tr th:only-of-type {\n",
       "        vertical-align: middle;\n",
       "    }\n",
       "\n",
       "    .dataframe tbody tr th {\n",
       "        vertical-align: top;\n",
       "    }\n",
       "\n",
       "    .dataframe thead th {\n",
       "        text-align: right;\n",
       "    }\n",
       "</style>\n",
       "<table border=\"1\" class=\"dataframe\">\n",
       "  <thead>\n",
       "    <tr style=\"text-align: right;\">\n",
       "      <th></th>\n",
       "      <th>Texas</th>\n",
       "      <th>Utah</th>\n",
       "    </tr>\n",
       "  </thead>\n",
       "  <tbody>\n",
       "    <tr>\n",
       "      <th>a</th>\n",
       "      <td>0</td>\n",
       "      <td>1</td>\n",
       "    </tr>\n",
       "    <tr>\n",
       "      <th>d</th>\n",
       "      <td>6</td>\n",
       "      <td>7</td>\n",
       "    </tr>\n",
       "  </tbody>\n",
       "</table>\n",
       "</div>"
      ],
      "text/plain": [
       "   Texas  Utah\n",
       "a      0     1\n",
       "d      6     7"
      ]
     },
     "execution_count": 364,
     "metadata": {},
     "output_type": "execute_result"
    }
   ],
   "source": [
    "df_data2.loc[['a','d'],['Texas','Utah']]"
   ]
  },
  {
   "cell_type": "code",
   "execution_count": null,
   "metadata": {},
   "outputs": [],
   "source": []
  }
 ],
 "metadata": {
  "kernelspec": {
   "display_name": "Python 3",
   "language": "python",
   "name": "python3"
  },
  "language_info": {
   "codemirror_mode": {
    "name": "ipython",
    "version": 3
   },
   "file_extension": ".py",
   "mimetype": "text/x-python",
   "name": "python",
   "nbconvert_exporter": "python",
   "pygments_lexer": "ipython3",
   "version": "3.8.3"
  }
 },
 "nbformat": 4,
 "nbformat_minor": 4
}
