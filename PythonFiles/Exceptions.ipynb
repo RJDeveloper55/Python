{
 "cells": [
  {
   "cell_type": "code",
   "execution_count": 8,
   "metadata": {},
   "outputs": [
    {
     "name": "stdout",
     "output_type": "stream",
     "text": [
      "No Exception occurred 2.5\n",
      "finally section will always be called\n"
     ]
    }
   ],
   "source": [
    "lstItems = []\n",
    "try:\n",
    "    result = 5/2\n",
    "except ZeroDivisionError as exp:\n",
    "     print(\"Exception is catch\",exp)\n",
    "except Exception as ex: \n",
    "    print(f\"Exception is catch -- {ex}\")\n",
    "else:\n",
    "    print(\"No Exception occurred\", result)\n",
    "finally:\n",
    "    print(\"finally section will always be called\")"
   ]
  },
  {
   "cell_type": "code",
   "execution_count": null,
   "metadata": {},
   "outputs": [],
   "source": []
  }
 ],
 "metadata": {
  "kernelspec": {
   "display_name": "Python 3",
   "language": "python",
   "name": "python3"
  },
  "language_info": {
   "codemirror_mode": {
    "name": "ipython",
    "version": 3
   },
   "file_extension": ".py",
   "mimetype": "text/x-python",
   "name": "python",
   "nbconvert_exporter": "python",
   "pygments_lexer": "ipython3",
   "version": "3.8.3"
  }
 },
 "nbformat": 4,
 "nbformat_minor": 4
}
