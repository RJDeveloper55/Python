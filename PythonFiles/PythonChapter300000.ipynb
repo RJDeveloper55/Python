{
 "cells": [
  {
   "cell_type": "code",
   "execution_count": 6,
   "metadata": {},
   "outputs": [],
   "source": [
    "def TestFunction():\n",
    "    print(\"Hello Safdar\")"
   ]
  },
  {
   "cell_type": "code",
   "execution_count": 7,
   "metadata": {},
   "outputs": [
    {
     "name": "stdout",
     "output_type": "stream",
     "text": [
      "Hello Safdar\n"
     ]
    }
   ],
   "source": [
    "TestFunction()"
   ]
  },
  {
   "cell_type": "code",
   "execution_count": 15,
   "metadata": {},
   "outputs": [],
   "source": [
    "def Addition():\n",
    "    value1 = int(input(\"Enter first value = \"))\n",
    "    value2 = int(input(\"Enter second value = \"))\n",
    "    print(f\"Sum of two values = {value1 + value2}\")"
   ]
  },
  {
   "cell_type": "code",
   "execution_count": 16,
   "metadata": {},
   "outputs": [
    {
     "name": "stdout",
     "output_type": "stream",
     "text": [
      "Enter first value = 25\n",
      "Enter second value = 35\n",
      "Sum of two values = 60\n"
     ]
    }
   ],
   "source": [
    "Addition()"
   ]
  },
  {
   "cell_type": "code",
   "execution_count": 18,
   "metadata": {},
   "outputs": [],
   "source": [
    "def Add(number1, number2):\n",
    "     print(f\"Sum of two numbers = {number1 + number2}\")"
   ]
  },
  {
   "cell_type": "code",
   "execution_count": 19,
   "metadata": {},
   "outputs": [
    {
     "name": "stdout",
     "output_type": "stream",
     "text": [
      "Sum of two numbers = 27\n"
     ]
    }
   ],
   "source": [
    "Add(12,15)"
   ]
  },
  {
   "cell_type": "markdown",
   "metadata": {},
   "source": [
    "# keyword arguments functions"
   ]
  },
  {
   "cell_type": "code",
   "execution_count": 22,
   "metadata": {},
   "outputs": [],
   "source": [
    "def funName(firstName, middelName, lastName):\n",
    "    print(f\"{firstName} - {middelName} - {lastName}\")"
   ]
  },
  {
   "cell_type": "code",
   "execution_count": 28,
   "metadata": {},
   "outputs": [
    {
     "name": "stdout",
     "output_type": "stream",
     "text": [
      "Muhammad - Hussain - Safdar\n"
     ]
    }
   ],
   "source": [
    "funName(\"Muhammad\", \"Hussain\", lastName =\"Safdar\")"
   ]
  },
  {
   "cell_type": "markdown",
   "metadata": {},
   "source": [
    "# Default value parameters functions"
   ]
  },
  {
   "cell_type": "code",
   "execution_count": 43,
   "metadata": {},
   "outputs": [],
   "source": [
    "def fullName(firstName, lastName , middleName =\"\"):\n",
    "    print(f\"{firstName} - {middleName} - {lastName}\")"
   ]
  },
  {
   "cell_type": "code",
   "execution_count": 46,
   "metadata": {},
   "outputs": [
    {
     "name": "stdout",
     "output_type": "stream",
     "text": [
      "Safdar -  - Jahan\n"
     ]
    }
   ],
   "source": [
    "fullName(lastName = \"Jahan\",firstName =\"Safdar\")"
   ]
  },
  {
   "cell_type": "markdown",
   "metadata": {},
   "source": [
    "# Unknown number of parameters. Deals with orbitary number of parameters\n"
   ]
  },
  {
   "cell_type": "code",
   "execution_count": 49,
   "metadata": {},
   "outputs": [],
   "source": [
    "def pizzaOrder(size, flavoure, *toppings):\n",
    "    print(f\"Your pizza order with size {size}, flavoure {flavoure} and toppings {toppings} is ready\")"
   ]
  },
  {
   "cell_type": "code",
   "execution_count": 50,
   "metadata": {},
   "outputs": [
    {
     "name": "stdout",
     "output_type": "stream",
     "text": [
      "Your pizza order with size 24, flavoure ChickenTikka and toppings ('OLIVE',) is ready\n"
     ]
    }
   ],
   "source": [
    "pizzaOrder(24, \"ChickenTikka\",\"OLIVE\")"
   ]
  },
  {
   "cell_type": "code",
   "execution_count": 52,
   "metadata": {},
   "outputs": [
    {
     "name": "stdout",
     "output_type": "stream",
     "text": [
      "Your pizza order with size 24, flavoure ChickenTikka and toppings ('OLIVE', 'Fruits', 'Chilli Souce') is ready\n"
     ]
    }
   ],
   "source": [
    "pizzaOrder(24, \"ChickenTikka\",\"OLIVE\",\"Fruits\",\"Chilli Souce\")"
   ]
  },
  {
   "cell_type": "markdown",
   "metadata": {},
   "source": [
    "# Funcctions: Passing information back from there."
   ]
  },
  {
   "cell_type": "code",
   "execution_count": 57,
   "metadata": {},
   "outputs": [],
   "source": [
    "def Add(val1, val2):\n",
    "    result = (val1 + val2)\n",
    "    return result, \"Successful\""
   ]
  },
  {
   "cell_type": "code",
   "execution_count": 58,
   "metadata": {},
   "outputs": [],
   "source": [
    "result1 = Add(10,20)"
   ]
  },
  {
   "cell_type": "code",
   "execution_count": 59,
   "metadata": {},
   "outputs": [
    {
     "data": {
      "text/plain": [
       "(30, 'Successful')"
      ]
     },
     "execution_count": 59,
     "metadata": {},
     "output_type": "execute_result"
    }
   ],
   "source": [
    "result1"
   ]
  },
  {
   "cell_type": "markdown",
   "metadata": {},
   "source": [
    "# Using functions as a variables"
   ]
  },
  {
   "cell_type": "code",
   "execution_count": 63,
   "metadata": {},
   "outputs": [],
   "source": [
    "def Add(val1, val2):\n",
    "    result = (val1 + val2)\n",
    "    return result\n",
    "def multiple(val1, val2):\n",
    "    return (val1 * val2)"
   ]
  },
  {
   "cell_type": "code",
   "execution_count": 64,
   "metadata": {},
   "outputs": [],
   "source": [
    "result1 = Add(5, 10) + multiple(2, 5)"
   ]
  },
  {
   "cell_type": "code",
   "execution_count": 66,
   "metadata": {},
   "outputs": [
    {
     "data": {
      "text/plain": [
       "25"
      ]
     },
     "execution_count": 66,
     "metadata": {},
     "output_type": "execute_result"
    }
   ],
   "source": [
    "result1"
   ]
  },
  {
   "cell_type": "markdown",
   "metadata": {},
   "source": [
    "# Functions: Local and global variables."
   ]
  },
  {
   "cell_type": "code",
   "execution_count": 67,
   "metadata": {},
   "outputs": [],
   "source": [
    "def beReady():\n",
    "    name = \"Mr. Imran\"\n",
    "    print(f\"{name} is ready for walking\")"
   ]
  },
  {
   "cell_type": "code",
   "execution_count": 68,
   "metadata": {},
   "outputs": [
    {
     "name": "stdout",
     "output_type": "stream",
     "text": [
      "Mr. Imran is ready for walking\n"
     ]
    }
   ],
   "source": [
    "beReady()"
   ]
  },
  {
   "cell_type": "code",
   "execution_count": 71,
   "metadata": {},
   "outputs": [],
   "source": [
    "otherName = \"Mr. Ali\"\n",
    " \n",
    "def beWelcome():\n",
    "    otherName = \"Mr. Nadeem\"\n",
    "    print(f\"{otherName} is welcome to Lahore\")"
   ]
  },
  {
   "cell_type": "code",
   "execution_count": 72,
   "metadata": {},
   "outputs": [
    {
     "name": "stdout",
     "output_type": "stream",
     "text": [
      "Mr. Nadeem is welcome to Lahore\n"
     ]
    }
   ],
   "source": [
    "beWelcome()"
   ]
  },
  {
   "cell_type": "code",
   "execution_count": 73,
   "metadata": {},
   "outputs": [
    {
     "name": "stdout",
     "output_type": "stream",
     "text": [
      "Mr. Ali\n"
     ]
    }
   ],
   "source": [
    "print(otherName)"
   ]
  },
  {
   "cell_type": "markdown",
   "metadata": {},
   "source": [
    "# Functions within functions"
   ]
  },
  {
   "cell_type": "code",
   "execution_count": 76,
   "metadata": {},
   "outputs": [],
   "source": [
    "def salaryCalc(Basics, Sales):\n",
    "    grossSalary = Basics + commissionCalc(Sales)\n",
    "    print(f\"{grossSalary} is your gloss salary\")\n",
    "    \n",
    "def commissionCalc(Sales):\n",
    "    if (Sales > 100):\n",
    "        return Sales * 100\n",
    "    elif(Sales > 50):\n",
    "        return Sales * 50\n",
    "    elif (Sales > 20):\n",
    "        return Sales * 20\n",
    "    else:\n",
    "        return 0"
   ]
  },
  {
   "cell_type": "code",
   "execution_count": 78,
   "metadata": {},
   "outputs": [
    {
     "name": "stdout",
     "output_type": "stream",
     "text": [
      "85000 is your gloss salary\n"
     ]
    }
   ],
   "source": [
    "salaryCalc(70000, 150)"
   ]
  },
  {
   "cell_type": "markdown",
   "metadata": {},
   "source": [
    "# While Loops"
   ]
  },
  {
   "cell_type": "code",
   "execution_count": 1,
   "metadata": {},
   "outputs": [
    {
     "name": "stdout",
     "output_type": "stream",
     "text": [
      "0 You are entered in While Loop\n",
      "1 You are entered in While Loop\n",
      "2 You are entered in While Loop\n",
      "3 You are entered in While Loop\n",
      "4 You are entered in While Loop\n",
      "5 You are entered in While Loop\n",
      "6 You are entered in While Loop\n",
      "7 You are entered in While Loop\n",
      "8 You are entered in While Loop\n",
      "9 You are entered in While Loop\n",
      "10 You are entered in While Loop\n",
      "0 You are entered in For Loop\n",
      "1 You are entered in For Loop\n",
      "2 You are entered in For Loop\n",
      "3 You are entered in For Loop\n",
      "4 You are entered in For Loop\n",
      "5 You are entered in For Loop\n",
      "6 You are entered in For Loop\n",
      "7 You are entered in For Loop\n",
      "8 You are entered in For Loop\n",
      "9 You are entered in For Loop\n",
      "10 You are entered in For Loop\n",
      "Please enter you favourite disk name, for exist enter QuitMutton Karahi\n",
      "Please enter you favourite disk name, for exist enter QuitMutton Tikka\n",
      "Please enter you favourite disk name, for exist enter QuitBeef Kabab\n",
      "Please enter you favourite disk name, for exist enter QuitQuit\n"
     ]
    }
   ],
   "source": [
    "num = 0\n",
    "while num <= 10:\n",
    "    print(f\"{num} You are entered in While Loop\")\n",
    "    num +=1\n",
    "\n",
    "for num1 in range(0,11):\n",
    "      print(f\"{num1} You are entered in For Loop\")\n",
    "    \n",
    "\n",
    "flag = True\n",
    "lstFavouriteDish = []\n",
    "while flag:\n",
    "    favouriteDisk = input(\"Please enter you favourite disk name, for exist enter Quit\")\n",
    "    if(favouriteDisk == \"Quit\"):\n",
    "        flag = False\n",
    "    else:\n",
    "        lstFavouriteDish.append(favouriteDisk)\n",
    "        flag = True\n",
    "        "
   ]
  },
  {
   "cell_type": "code",
   "execution_count": null,
   "metadata": {},
   "outputs": [],
   "source": []
  },
  {
   "cell_type": "code",
   "execution_count": null,
   "metadata": {},
   "outputs": [],
   "source": []
  },
  {
   "cell_type": "code",
   "execution_count": null,
   "metadata": {},
   "outputs": [],
   "source": []
  }
 ],
 "metadata": {
  "kernelspec": {
   "display_name": "Python 3",
   "language": "python",
   "name": "python3"
  },
  "language_info": {
   "codemirror_mode": {
    "name": "ipython",
    "version": 3
   },
   "file_extension": ".py",
   "mimetype": "text/x-python",
   "name": "python",
   "nbconvert_exporter": "python",
   "pygments_lexer": "ipython3",
   "version": "3.8.3"
  }
 },
 "nbformat": 4,
 "nbformat_minor": 4
}
