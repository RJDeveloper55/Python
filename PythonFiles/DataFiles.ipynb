{
 "cells": [
  {
   "cell_type": "markdown",
   "metadata": {},
   "source": [
    "# Syntax: with open(\"fileName\",\"mode\") as fileName\n"
   ]
  },
  {
   "cell_type": "markdown",
   "metadata": {},
   "source": [
    "# File Mode: Writing, Reading and Open."
   ]
  },
  {
   "cell_type": "code",
   "execution_count": 10,
   "metadata": {},
   "outputs": [
    {
     "name": "stdout",
     "output_type": "stream",
     "text": [
      "Python modify the file contentsThis text is written in Append mode\n"
     ]
    }
   ],
   "source": [
    "with open(\"testingDataFile.txt\", \"r\") as aFile:\n",
    "    contents = aFile.read()\n",
    "    print(contents)"
   ]
  },
  {
   "cell_type": "code",
   "execution_count": 4,
   "metadata": {},
   "outputs": [],
   "source": [
    "with open(\"testingDataFile.txt\", \"w\") as aFile:\n",
    "    contents = aFile.write(\"Python modify the file contents\")"
   ]
  },
  {
   "cell_type": "code",
   "execution_count": 8,
   "metadata": {},
   "outputs": [
    {
     "name": "stdout",
     "output_type": "stream",
     "text": [
      "Python modify the file contents\n"
     ]
    }
   ],
   "source": [
    "with open(\"NoDataFile.txt\", \"r\") as aFile:\n",
    "    contents = aFile.read()\n",
    "    print(contents)"
   ]
  },
  {
   "cell_type": "code",
   "execution_count": 7,
   "metadata": {},
   "outputs": [],
   "source": [
    "with open(\"NoDataFile.txt\", \"w\") as aFile:\n",
    "    contents = aFile.write(\"Python modify the file contents\")"
   ]
  },
  {
   "cell_type": "code",
   "execution_count": 9,
   "metadata": {},
   "outputs": [],
   "source": [
    "with open(\"testingDataFile.txt\", \"a\") as aFile:\n",
    "    contents = aFile.write(\"This text is written in Append mode\")"
   ]
  },
  {
   "cell_type": "markdown",
   "metadata": {},
   "source": [
    "# r+ mode and w+ mode"
   ]
  },
  {
   "cell_type": "code",
   "execution_count": 13,
   "metadata": {},
   "outputs": [
    {
     "name": "stdout",
     "output_type": "stream",
     "text": [
      "This file is written with W+ mode.\n"
     ]
    }
   ],
   "source": [
    "with open(\"myNewFile.txt\", \"w+\") as aFile:\n",
    "        aFile.write(\"This file is written with W+ mode.\")\n",
    "        aFile.seek(0)\n",
    "        print(aFile.read())\n",
    "    "
   ]
  },
  {
   "cell_type": "code",
   "execution_count": 15,
   "metadata": {},
   "outputs": [
    {
     "name": "stdout",
     "output_type": "stream",
     "text": [
      "This file does not exist on configure pathThis file does not exist on configure pathThis file does not exist on configure path\n"
     ]
    }
   ],
   "source": [
    "with open(\"myNewFile.txt\", \"r+\") as aFile:\n",
    "        aFile.write(\"This file does not exist on configure path\")\n",
    "        aFile.write(\"This file does not exist on configure path\")\n",
    "        aFile.write(\"This file does not exist on configure path\")\n",
    "        aFile.seek(0)\n",
    "        print(aFile.read())"
   ]
  },
  {
   "cell_type": "code",
   "execution_count": null,
   "metadata": {},
   "outputs": [],
   "source": []
  }
 ],
 "metadata": {
  "kernelspec": {
   "display_name": "Python 3",
   "language": "python",
   "name": "python3"
  },
  "language_info": {
   "codemirror_mode": {
    "name": "ipython",
    "version": 3
   },
   "file_extension": ".py",
   "mimetype": "text/x-python",
   "name": "python",
   "nbconvert_exporter": "python",
   "pygments_lexer": "ipython3",
   "version": "3.8.3"
  }
 },
 "nbformat": 4,
 "nbformat_minor": 4
}
