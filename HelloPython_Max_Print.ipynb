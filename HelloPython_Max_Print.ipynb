{
 "cells": [
  {
   "cell_type": "code",
   "execution_count": 2,
   "metadata": {},
   "outputs": [
    {
     "name": "stdout",
     "output_type": "stream",
     "text": [
      "Enter 1st number : 5\n",
      "Enter 2nd number : 10\n",
      "Enter 3rd number : 8\n",
      "The max value is :  10.0\n",
      "Press any key to exit\n"
     ]
    },
    {
     "data": {
      "text/plain": [
       "''"
      ]
     },
     "execution_count": 2,
     "metadata": {},
     "output_type": "execute_result"
    }
   ],
   "source": [
    "x=float(input(\"Enter 1st number : \"))\n",
    "y=float(input(\"Enter 2nd number : \"))\n",
    "z=float(input(\"Enter 3rd number : \"))\n",
    "\n",
    "print (\"The max value is : \", max(x,y,z))\n",
    "input (\"Press any key to exit\")"
   ]
  }
 ],
 "metadata": {
  "kernelspec": {
   "display_name": "Python 3",
   "language": "python",
   "name": "python3"
  },
  "language_info": {
   "codemirror_mode": {
    "name": "ipython",
    "version": 3
   },
   "file_extension": ".py",
   "mimetype": "text/x-python",
   "name": "python",
   "nbconvert_exporter": "python",
   "pygments_lexer": "ipython3",
   "version": "3.8.3"
  }
 },
 "nbformat": 4,
 "nbformat_minor": 4
}
